{
 "cells": [
  {
   "cell_type": "markdown",
   "id": "bc273201-4012-4c86-aa30-ec7d7f2cfa00",
   "metadata": {},
   "source": [
    "# Tutorial 5\n",
    "\n",
    "**This tutorial will cover:**\n",
    "\n",
    "* GroupBy functions\n",
    "* Aggregate functions"
   ]
  },
  {
   "cell_type": "code",
   "execution_count": 4,
   "id": "ac9cc1ae-3a3b-4a07-9d74-368575874619",
   "metadata": {},
   "outputs": [
    {
     "name": "stdout",
     "output_type": "stream",
     "text": [
      "+-----+------------+------+\n",
      "| Name| Departments|Salary|\n",
      "+-----+------------+------+\n",
      "|Steve|Data Science| 10000|\n",
      "|Steve|         IOT|  5000|\n",
      "| John|    Big Data|  4000|\n",
      "|Steve|    Big Data|  4000|\n",
      "| John|Data Science|  3000|\n",
      "|  Tom|Data Science| 20000|\n",
      "|  Tom|         IOT| 10000|\n",
      "|  Tom|    Big Data|  5000|\n",
      "| Mark|Data Science| 10000|\n",
      "| Mark|    Big Data|  2000|\n",
      "+-----+------------+------+\n",
      "\n"
     ]
    }
   ],
   "source": [
    "from pyspark.sql import SparkSession\n",
    "\n",
    "spark = SparkSession.builder.appName(\"Practice\").getOrCreate()\n",
    "\n",
    "df1 = spark.read.csv(\"test-data-5.csv\", header=True, inferSchema=True)\n",
    "df1.show()"
   ]
  },
  {
   "cell_type": "code",
   "execution_count": null,
   "id": "d5df0ed7-15cc-4cdd-83e4-f922403faf7b",
   "metadata": {},
   "outputs": [],
   "source": []
  }
 ],
 "metadata": {
  "kernelspec": {
   "display_name": "Python 3 (ipykernel)",
   "language": "python",
   "name": "python3"
  },
  "language_info": {
   "codemirror_mode": {
    "name": "ipython",
    "version": 3
   },
   "file_extension": ".py",
   "mimetype": "text/x-python",
   "name": "python",
   "nbconvert_exporter": "python",
   "pygments_lexer": "ipython3",
   "version": "3.10.8"
  }
 },
 "nbformat": 4,
 "nbformat_minor": 5
}
