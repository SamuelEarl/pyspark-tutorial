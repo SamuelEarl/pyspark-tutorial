{
 "cells": [
  {
   "cell_type": "markdown",
   "id": "02edc6ea-5b8e-4e31-a9cc-5456f55bb966",
   "metadata": {},
   "source": [
    "**This tutorial will cover**\n",
    "\n",
    "* PySpark DataFrames\n",
    "* Reading datasets\n",
    "* Checking the data types of columns (schema)\n",
    "* Selecting columns and indexing\n",
    "* Check describe option (which is similar to Pandas)\n",
    "* Adding columns\n",
    "* Dropping columns"
   ]
  },
  {
   "cell_type": "code",
   "execution_count": null,
   "id": "bea52fb4-0e49-49b6-9b89-6934d3dbf3e1",
   "metadata": {},
   "outputs": [],
   "source": []
  }
 ],
 "metadata": {
  "kernelspec": {
   "display_name": "Python 3 (ipykernel)",
   "language": "python",
   "name": "python3"
  },
  "language_info": {
   "codemirror_mode": {
    "name": "ipython",
    "version": 3
   },
   "file_extension": ".py",
   "mimetype": "text/x-python",
   "name": "python",
   "nbconvert_exporter": "python",
   "pygments_lexer": "ipython3",
   "version": "3.10.8"
  }
 },
 "nbformat": 4,
 "nbformat_minor": 5
}
