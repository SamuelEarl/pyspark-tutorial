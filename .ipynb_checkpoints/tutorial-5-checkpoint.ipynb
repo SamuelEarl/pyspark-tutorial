{
 "cells": [
  {
   "cell_type": "markdown",
   "id": "bc273201-4012-4c86-aa30-ec7d7f2cfa00",
   "metadata": {},
   "source": [
    "# Tutorial 5\n",
    "\n",
    "**This tutorial will cover:**\n",
    "\n",
    "* GroupBy function\n",
    "* Aggregate functions"
   ]
  },
  {
   "cell_type": "code",
   "execution_count": 1,
   "id": "ac9cc1ae-3a3b-4a07-9d74-368575874619",
   "metadata": {},
   "outputs": [
    {
     "name": "stdout",
     "output_type": "stream",
     "text": [
      "+-----+------------+------+\n",
      "| Name| Departments|Salary|\n",
      "+-----+------------+------+\n",
      "|Steve|Data Science| 10000|\n",
      "|Steve|         IOT|  5000|\n",
      "| John|    Big Data|  4000|\n",
      "|Steve|    Big Data|  4000|\n",
      "| John|Data Science|  3000|\n",
      "|  Tom|Data Science| 20000|\n",
      "|  Tom|         IOT| 10000|\n",
      "|  Tom|    Big Data|  5000|\n",
      "| Mark|Data Science| 10000|\n",
      "| Mark|    Big Data|  2000|\n",
      "+-----+------------+------+\n",
      "\n"
     ]
    }
   ],
   "source": [
    "from pyspark.sql import SparkSession\n",
    "\n",
    "spark = SparkSession.builder.appName(\"Practice\").getOrCreate()\n",
    "\n",
    "df1 = spark.read.csv(\"test-data-5.csv\", header=True, inferSchema=True)\n",
    "df1.show()"
   ]
  },
  {
   "cell_type": "markdown",
   "id": "a056c01d-eadb-4665-997e-9ac77e917d13",
   "metadata": {},
   "source": [
    "The `groupBy()` and aggregate functions work together. For example, you will group the data by a column (or a list of columns) and specify an aggregate function to execute on the grouped data.\n",
    "\n",
    "Tip: You can see a list of the available aggregate functions by typing `df1.groupBy(\"Column Name\").` and pressing the `Tab` key."
   ]
  },
  {
   "cell_type": "code",
   "execution_count": 2,
   "id": "bbe9a4c8-6127-4f1f-b4c1-90eb8a8ee229",
   "metadata": {},
   "outputs": [
    {
     "name": "stdout",
     "output_type": "stream",
     "text": [
      "+-----+-----------+\n",
      "| Name|sum(Salary)|\n",
      "+-----+-----------+\n",
      "|Steve|      19000|\n",
      "|  Tom|      35000|\n",
      "| Mark|      12000|\n",
      "| John|       7000|\n",
      "+-----+-----------+\n",
      "\n"
     ]
    }
   ],
   "source": [
    "# Find the highest salary by grouping the rows by the \"Name\" column and then sum the salaries.\n",
    "df1.groupBy(\"Name\").sum(\"Salary\").show()"
   ]
  },
  {
   "cell_type": "markdown",
   "id": "41e522a9-73cc-4209-bfca-cca9f6ac4643",
   "metadata": {},
   "source": [
    "Note that you cannot apply certain aggregate functions on certain columns due to the data types. For example, you cannot apply the `sum()` function on a column of `string` values. So it might be helpful to view the data types of each column:"
   ]
  },
  {
   "cell_type": "code",
   "execution_count": 3,
   "id": "ac898cc8-d5ce-48f4-bf64-8a17f3ed4bfe",
   "metadata": {},
   "outputs": [
    {
     "name": "stdout",
     "output_type": "stream",
     "text": [
      "root\n",
      " |-- Name: string (nullable = true)\n",
      " |-- Departments: string (nullable = true)\n",
      " |-- Salary: integer (nullable = true)\n",
      "\n"
     ]
    }
   ],
   "source": [
    "df1.printSchema()"
   ]
  },
  {
   "cell_type": "code",
   "execution_count": 4,
   "id": "f7b4b998-4ce3-4595-89c1-f27538872449",
   "metadata": {},
   "outputs": [
    {
     "name": "stdout",
     "output_type": "stream",
     "text": [
      "+------------+-----------+\n",
      "| Departments|sum(Salary)|\n",
      "+------------+-----------+\n",
      "|         IOT|      15000|\n",
      "|    Big Data|      15000|\n",
      "|Data Science|      43000|\n",
      "+------------+-----------+\n",
      "\n"
     ]
    }
   ],
   "source": [
    "# Find out which department is paying the most in total salary.\n",
    "df1.groupBy(\"Departments\").sum(\"Salary\").show()"
   ]
  },
  {
   "cell_type": "code",
   "execution_count": 5,
   "id": "cb82e19e-543d-464b-a09d-4d29ac0e2847",
   "metadata": {},
   "outputs": [
    {
     "name": "stdout",
     "output_type": "stream",
     "text": [
      "+------------+-----------+\n",
      "| Departments|avg(Salary)|\n",
      "+------------+-----------+\n",
      "|         IOT|     7500.0|\n",
      "|    Big Data|     3750.0|\n",
      "|Data Science|    10750.0|\n",
      "+------------+-----------+\n",
      "\n"
     ]
    }
   ],
   "source": [
    "# Find out which department is paying the highest average salary.\n",
    "df1.groupBy(\"Departments\").mean(\"Salary\").show()"
   ]
  },
  {
   "cell_type": "code",
   "execution_count": 6,
   "id": "c57cb8b5-a873-4d7d-9cc3-f5454c9afd46",
   "metadata": {},
   "outputs": [
    {
     "name": "stdout",
     "output_type": "stream",
     "text": [
      "+------------+-----+\n",
      "| Departments|count|\n",
      "+------------+-----+\n",
      "|         IOT|    2|\n",
      "|    Big Data|    4|\n",
      "|Data Science|    4|\n",
      "+------------+-----+\n",
      "\n"
     ]
    }
   ],
   "source": [
    "# Find out how many employees are working in each department.\n",
    "df1.groupBy(\"Departments\").count().show()"
   ]
  },
  {
   "cell_type": "code",
   "execution_count": 7,
   "id": "cf5231b4-5568-442a-bc3f-b39dc68d3b1d",
   "metadata": {},
   "outputs": [
    {
     "name": "stdout",
     "output_type": "stream",
     "text": [
      "+-----------+\n",
      "|sum(Salary)|\n",
      "+-----------+\n",
      "|      73000|\n",
      "+-----------+\n",
      "\n"
     ]
    }
   ],
   "source": [
    "# Another way to apply an aggregate function is with the `agg()` function. \n",
    "# The `agg()` function will execute an aggregate function without grouping the data first. In other words, this is a shorthand for `df.groupBy().agg()`.\n",
    "df1.agg({\"Salary\": \"sum\"}).show()"
   ]
  },
  {
   "cell_type": "code",
   "execution_count": 8,
   "id": "ca1e8db7-b959-419a-b586-b532a8be2e29",
   "metadata": {},
   "outputs": [
    {
     "name": "stdout",
     "output_type": "stream",
     "text": [
      "+-----------+\n",
      "|sum(Salary)|\n",
      "+-----------+\n",
      "|      73000|\n",
      "+-----------+\n",
      "\n"
     ]
    }
   ],
   "source": [
    "# Using the `agg()` in the previous data cell is the same is this:\n",
    "df1.groupBy().sum(\"Salary\").show()"
   ]
  },
  {
   "cell_type": "code",
   "execution_count": 9,
   "id": "46668712-c7f8-404a-a0bd-abf8df48104f",
   "metadata": {},
   "outputs": [
    {
     "name": "stdout",
     "output_type": "stream",
     "text": [
      "+-----+-----------+\n",
      "| Name|max(Salary)|\n",
      "+-----+-----------+\n",
      "|Steve|      10000|\n",
      "|  Tom|      20000|\n",
      "| Mark|      10000|\n",
      "| John|       4000|\n",
      "+-----+-----------+\n",
      "\n"
     ]
    }
   ],
   "source": [
    "# Who has the maximum salary from a single department.\n",
    "df1.groupBy(\"Name\").max().show()"
   ]
  },
  {
   "cell_type": "code",
   "execution_count": 10,
   "id": "cdfaac09-4019-415a-9737-6b3c65b48774",
   "metadata": {},
   "outputs": [
    {
     "name": "stdout",
     "output_type": "stream",
     "text": [
      "+-----+-----------+\n",
      "| Name|min(Salary)|\n",
      "+-----+-----------+\n",
      "|Steve|       4000|\n",
      "|  Tom|       5000|\n",
      "| Mark|       2000|\n",
      "| John|       3000|\n",
      "+-----+-----------+\n",
      "\n"
     ]
    }
   ],
   "source": [
    "# Who has the minimum salary from a single department.\n",
    "df1.groupBy(\"Name\").min().show()"
   ]
  }
 ],
 "metadata": {
  "kernelspec": {
   "display_name": "Python 3 (ipykernel)",
   "language": "python",
   "name": "python3"
  },
  "language_info": {
   "codemirror_mode": {
    "name": "ipython",
    "version": 3
   },
   "file_extension": ".py",
   "mimetype": "text/x-python",
   "name": "python",
   "nbconvert_exporter": "python",
   "pygments_lexer": "ipython3",
   "version": "3.10.8"
  }
 },
 "nbformat": 4,
 "nbformat_minor": 5
}
