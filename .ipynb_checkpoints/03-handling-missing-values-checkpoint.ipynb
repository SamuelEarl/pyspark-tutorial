{
 "cells": [
  {
   "cell_type": "markdown",
   "id": "68f6ebe6-72ea-4d0b-a80c-8bec5a37fe2b",
   "metadata": {},
   "source": [
    "# Handling Missing Values\n",
    "\n",
    "**This tutorial will cover:**\n",
    "\n",
    "* Dropping columns\n",
    "* Dropping rows\n",
    "* Various parameters in dropping functions\n",
    "* Handling missing values by mean"
   ]
  },
  {
   "cell_type": "code",
   "execution_count": null,
   "id": "59577ac7-df6e-42b8-933d-c6b44792ace5",
   "metadata": {},
   "outputs": [],
   "source": []
  }
 ],
 "metadata": {
  "kernelspec": {
   "display_name": "Python 3 (ipykernel)",
   "language": "python",
   "name": "python3"
  },
  "language_info": {
   "codemirror_mode": {
    "name": "ipython",
    "version": 3
   },
   "file_extension": ".py",
   "mimetype": "text/x-python",
   "name": "python",
   "nbconvert_exporter": "python",
   "pygments_lexer": "ipython3",
   "version": "3.10.8"
  }
 },
 "nbformat": 4,
 "nbformat_minor": 5
}
