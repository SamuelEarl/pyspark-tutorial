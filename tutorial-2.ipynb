{
 "cells": [
  {
   "cell_type": "markdown",
   "id": "02edc6ea-5b8e-4e31-a9cc-5456f55bb966",
   "metadata": {},
   "source": [
    "# Tutorial 2\n",
    "\n",
    "**This tutorial will cover:**\n",
    "\n",
    "* PySpark DataFrames\n",
    "* Reading datasets\n",
    "* Checking the data types of columns (i.e. checking the schema)\n",
    "* Selecting columns and indexing\n",
    "* View descriptive statistics of a DataFrame\n",
    "* Adding columns\n",
    "* Dropping columns\n",
    "* Renaming columns"
   ]
  },
  {
   "cell_type": "code",
   "execution_count": 1,
   "id": "bea52fb4-0e49-49b6-9b89-6934d3dbf3e1",
   "metadata": {},
   "outputs": [],
   "source": [
    "from pyspark.sql import SparkSession"
   ]
  },
  {
   "cell_type": "code",
   "execution_count": 2,
   "id": "c3ce5b14-ca12-42e3-9692-81170fd633aa",
   "metadata": {},
   "outputs": [],
   "source": [
    "spark = SparkSession.builder.appName(\"DataFrame\").getOrCreate()"
   ]
  },
  {
   "cell_type": "code",
   "execution_count": 3,
   "id": "4ab5847b-5010-4d3a-8cdd-9240b5a12891",
   "metadata": {},
   "outputs": [
    {
     "data": {
      "text/html": [
       "\n",
       "            <div>\n",
       "                <p><b>SparkSession - in-memory</b></p>\n",
       "                \n",
       "        <div>\n",
       "            <p><b>SparkContext</b></p>\n",
       "\n",
       "            <p><a href=\"http://c53ff27359fb:4043\">Spark UI</a></p>\n",
       "\n",
       "            <dl>\n",
       "              <dt>Version</dt>\n",
       "                <dd><code>v3.3.1</code></dd>\n",
       "              <dt>Master</dt>\n",
       "                <dd><code>local[*]</code></dd>\n",
       "              <dt>AppName</dt>\n",
       "                <dd><code>DataFrame</code></dd>\n",
       "            </dl>\n",
       "        </div>\n",
       "        \n",
       "            </div>\n",
       "        "
      ],
      "text/plain": [
       "<pyspark.sql.session.SparkSession at 0x7f55209176a0>"
      ]
     },
     "execution_count": 3,
     "metadata": {},
     "output_type": "execute_result"
    }
   ],
   "source": [
    "spark"
   ]
  },
  {
   "cell_type": "markdown",
   "id": "13196fb2-f0f3-4301-a581-f25ebad5a229",
   "metadata": {},
   "source": [
    "## PySpark DataFrames and Reading datasets"
   ]
  },
  {
   "cell_type": "code",
   "execution_count": 4,
   "id": "838dccb2-e5f7-44da-b9bf-d50c3be7051b",
   "metadata": {},
   "outputs": [
    {
     "data": {
      "text/plain": [
       "DataFrame[Name: string, Age: string, Experience: string]"
      ]
     },
     "execution_count": 4,
     "metadata": {},
     "output_type": "execute_result"
    }
   ],
   "source": [
    "# Read the dataset.\n",
    "df_pyspark = spark.read.option(\"header\", True).csv(\"test-data-2.csv\")\n",
    "df_pyspark"
   ]
  },
  {
   "cell_type": "code",
   "execution_count": 5,
   "id": "1f7caa95-21c8-40cd-8479-cd72728f7626",
   "metadata": {},
   "outputs": [
    {
     "name": "stdout",
     "output_type": "stream",
     "text": [
      "+-----+---+----------+\n",
      "| Name|Age|Experience|\n",
      "+-----+---+----------+\n",
      "|Steve| 30|        10|\n",
      "| Bill| 31|         8|\n",
      "| John| 32|         4|\n",
      "+-----+---+----------+\n",
      "\n"
     ]
    }
   ],
   "source": [
    "# View the entire dataset.\n",
    "df_pyspark.show()"
   ]
  },
  {
   "cell_type": "markdown",
   "id": "56610ed7-eab1-4456-9400-2eb119ef4e01",
   "metadata": {},
   "source": [
    "## Checking the data types of columns (i.e. checking the schema)"
   ]
  },
  {
   "cell_type": "code",
   "execution_count": 6,
   "id": "3d211108-ba3d-4090-af85-aa78e05c87e2",
   "metadata": {},
   "outputs": [
    {
     "name": "stdout",
     "output_type": "stream",
     "text": [
      "root\n",
      " |-- Name: string (nullable = true)\n",
      " |-- Age: string (nullable = true)\n",
      " |-- Experience: string (nullable = true)\n",
      "\n"
     ]
    }
   ],
   "source": [
    "# View the schema.\n",
    "df_pyspark.printSchema()"
   ]
  },
  {
   "cell_type": "markdown",
   "id": "f629775f-ea8f-48de-a053-a8c031425f54",
   "metadata": {},
   "source": [
    "The `Age` and `Experience` columns should be `integer` data types, but they are strings. We can fix that with the `inferSchema=True` option in the `csv()` method:"
   ]
  },
  {
   "cell_type": "code",
   "execution_count": 7,
   "id": "6d33f588-4894-4410-bd35-83a255777537",
   "metadata": {},
   "outputs": [
    {
     "name": "stdout",
     "output_type": "stream",
     "text": [
      "root\n",
      " |-- Name: string (nullable = true)\n",
      " |-- Age: integer (nullable = true)\n",
      " |-- Experience: integer (nullable = true)\n",
      "\n"
     ]
    }
   ],
   "source": [
    "# Notice also that we can use the `header-True` options in the `csv()` method.\n",
    "df_pyspark = spark.read.csv(\"test-data-2.csv\", header=True, inferSchema=True)\n",
    "df_pyspark.printSchema()"
   ]
  },
  {
   "cell_type": "markdown",
   "id": "9724ba83-86b2-480d-9c0e-1ebe2e909784",
   "metadata": {},
   "source": [
    "## Selecting columns and indexing"
   ]
  },
  {
   "cell_type": "code",
   "execution_count": 8,
   "id": "6e1ede2b-5d31-4b73-a85a-52b0278f26f5",
   "metadata": {},
   "outputs": [
    {
     "data": {
      "text/plain": [
       "['Name', 'Age', 'Experience']"
      ]
     },
     "execution_count": 8,
     "metadata": {},
     "output_type": "execute_result"
    }
   ],
   "source": [
    "# Get the column names.\n",
    "df_pyspark.columns"
   ]
  },
  {
   "cell_type": "code",
   "execution_count": 9,
   "id": "d482b7bb-57ae-4322-a08f-410d7a18932a",
   "metadata": {},
   "outputs": [
    {
     "data": {
      "text/plain": [
       "[Row(Name='Steve', Age=30, Experience=10),\n",
       " Row(Name='Bill', Age=31, Experience=8),\n",
       " Row(Name='John', Age=32, Experience=4)]"
      ]
     },
     "execution_count": 9,
     "metadata": {},
     "output_type": "execute_result"
    }
   ],
   "source": [
    "# Get a specific number of rows in list format.\n",
    "df_pyspark.head(3)\n",
    "\n",
    "# NOTE: This is similar to the Pandas `head()` method only PySpark returns a list of rows and Pandas returns a dataframe. "
   ]
  },
  {
   "cell_type": "code",
   "execution_count": 10,
   "id": "9b4d8fd2-8954-4616-bc08-264c71177379",
   "metadata": {},
   "outputs": [
    {
     "data": {
      "text/plain": [
       "DataFrame[Name: string]"
      ]
     },
     "execution_count": 10,
     "metadata": {},
     "output_type": "execute_result"
    }
   ],
   "source": [
    "# Select a column and view its schema.\n",
    "df_pyspark.select(\"Name\")"
   ]
  },
  {
   "cell_type": "code",
   "execution_count": 11,
   "id": "03599d01-0e4e-478b-bf7d-bab95b7d7ad1",
   "metadata": {},
   "outputs": [
    {
     "name": "stdout",
     "output_type": "stream",
     "text": [
      "+-----+\n",
      "| Name|\n",
      "+-----+\n",
      "|Steve|\n",
      "| Bill|\n",
      "| John|\n",
      "+-----+\n",
      "\n"
     ]
    }
   ],
   "source": [
    "# Select a column and view all the elements as a dataframe.\n",
    "df_pyspark.select(\"Name\").show()"
   ]
  },
  {
   "cell_type": "code",
   "execution_count": 12,
   "id": "8f330128-ffcd-4f34-8ecb-91820928ce73",
   "metadata": {},
   "outputs": [
    {
     "name": "stdout",
     "output_type": "stream",
     "text": [
      "+-----+----------+\n",
      "| Name|Experience|\n",
      "+-----+----------+\n",
      "|Steve|        10|\n",
      "| Bill|         8|\n",
      "| John|         4|\n",
      "+-----+----------+\n",
      "\n"
     ]
    }
   ],
   "source": [
    "# Select multiple columns and view all the elements as a dataframe.\n",
    "df_pyspark.select([\"Name\", \"Experience\"]).show()"
   ]
  },
  {
   "cell_type": "code",
   "execution_count": 13,
   "id": "20a78dd7-99a2-48ff-bab8-2badba5ee9d0",
   "metadata": {},
   "outputs": [
    {
     "data": {
      "text/plain": [
       "[('Name', 'string'), ('Age', 'int'), ('Experience', 'int')]"
      ]
     },
     "execution_count": 13,
     "metadata": {},
     "output_type": "execute_result"
    }
   ],
   "source": [
    "# Check the data types of the columns.\n",
    "df_pyspark.dtypes"
   ]
  },
  {
   "cell_type": "markdown",
   "id": "22caba7f-cbb5-4caf-819a-6f0f4955fb38",
   "metadata": {},
   "source": [
    "## View descriptive statistics of a DataFrame"
   ]
  },
  {
   "cell_type": "code",
   "execution_count": 14,
   "id": "ac335c57-c139-4915-86ac-15ac940a0b03",
   "metadata": {},
   "outputs": [
    {
     "name": "stdout",
     "output_type": "stream",
     "text": [
      "+-------+-----+----+-----------------+\n",
      "|summary| Name| Age|       Experience|\n",
      "+-------+-----+----+-----------------+\n",
      "|  count|    3|   3|                3|\n",
      "|   mean| null|31.0|7.333333333333333|\n",
      "| stddev| null| 1.0|3.055050463303893|\n",
      "|    min| Bill|  30|                4|\n",
      "|    max|Steve|  32|               10|\n",
      "+-------+-----+----+-----------------+\n",
      "\n"
     ]
    }
   ],
   "source": [
    "# Use the `describe()` method to view descriptive statistics (similar to Pandas).\n",
    "df_pyspark.describe().show()"
   ]
  },
  {
   "cell_type": "markdown",
   "id": "2667a4a8-5810-4b47-8f69-06f4db2f7140",
   "metadata": {},
   "source": [
    "## Adding columns"
   ]
  },
  {
   "cell_type": "markdown",
   "id": "fd04cd91-d7e3-4bdb-9bc3-60aa2fabab14",
   "metadata": {},
   "source": [
    "You can add columns with the `withColumn()` method. View the docs for more details: [pyspark.sql.DataFrame.withColumn](https://spark.apache.org/docs/3.1.1/api/python/reference/api/pyspark.sql.DataFrame.withColumn.html?highlight=withcolumn#pyspark.sql.DataFrame.withColumn)."
   ]
  },
  {
   "cell_type": "code",
   "execution_count": 15,
   "id": "0a76672c-69b8-4147-9a04-ef203d93a192",
   "metadata": {},
   "outputs": [
    {
     "name": "stdout",
     "output_type": "stream",
     "text": [
      "+-----+---+----------+------------------------+\n",
      "| Name|Age|Experience|Experience After 2 Years|\n",
      "+-----+---+----------+------------------------+\n",
      "|Steve| 30|        10|                      12|\n",
      "| Bill| 31|         8|                      10|\n",
      "| John| 32|         4|                       6|\n",
      "+-----+---+----------+------------------------+\n",
      "\n"
     ]
    }
   ],
   "source": [
    "df_pyspark.withColumn(\"Experience After 2 Years\", df_pyspark[\"Experience\"]+2).show()"
   ]
  },
  {
   "cell_type": "markdown",
   "id": "40f86665-abea-41d1-a274-19fba159523d",
   "metadata": {},
   "source": [
    "## Dropping columns"
   ]
  },
  {
   "cell_type": "markdown",
   "id": "1e504e5c-f5a0-46f6-b775-845bf69a4582",
   "metadata": {},
   "source": [
    "You can drop columns with the `drop()` method."
   ]
  },
  {
   "cell_type": "code",
   "execution_count": 16,
   "id": "322c6d33-ce82-46cf-be2f-e2da62f87b50",
   "metadata": {},
   "outputs": [
    {
     "name": "stdout",
     "output_type": "stream",
     "text": [
      "+-----+---+----------+\n",
      "| Name|Age|Experience|\n",
      "+-----+---+----------+\n",
      "|Steve| 30|        10|\n",
      "| Bill| 31|         8|\n",
      "| John| 32|         4|\n",
      "+-----+---+----------+\n",
      "\n"
     ]
    }
   ],
   "source": [
    "df_pyspark.drop(\"Experience After 2 Years\").show()"
   ]
  },
  {
   "cell_type": "markdown",
   "id": "dbfe19e6-a30f-41e9-8359-05b8dc0206f6",
   "metadata": {},
   "source": [
    "## Renaming columns"
   ]
  },
  {
   "cell_type": "code",
   "execution_count": 17,
   "id": "3897f99a-42b3-42c2-934b-c62227aba1e0",
   "metadata": {},
   "outputs": [
    {
     "name": "stdout",
     "output_type": "stream",
     "text": [
      "+--------+---+----------+\n",
      "|New Name|Age|Experience|\n",
      "+--------+---+----------+\n",
      "|   Steve| 30|        10|\n",
      "|    Bill| 31|         8|\n",
      "|    John| 32|         4|\n",
      "+--------+---+----------+\n",
      "\n"
     ]
    }
   ],
   "source": [
    "df_pyspark.withColumnRenamed(\"Name\", \"New Name\").show()"
   ]
  }
 ],
 "metadata": {
  "kernelspec": {
   "display_name": "Python 3 (ipykernel)",
   "language": "python",
   "name": "python3"
  },
  "language_info": {
   "codemirror_mode": {
    "name": "ipython",
    "version": 3
   },
   "file_extension": ".py",
   "mimetype": "text/x-python",
   "name": "python",
   "nbconvert_exporter": "python",
   "pygments_lexer": "ipython3",
   "version": "3.10.8"
  }
 },
 "nbformat": 4,
 "nbformat_minor": 5
}
