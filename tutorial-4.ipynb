{
 "cells": [
  {
   "cell_type": "markdown",
   "id": "b0ac9d62-c4f6-4c0b-8d1c-bc6a11ad7960",
   "metadata": {},
   "source": [
    "# Tutorial 4\n",
    "\n",
    "**This tutorial will cover:**\n",
    "\n",
    "* Using filter operations to retrieve data based on some condition:\n",
    "    * `&` (and)\n",
    "    * `|` (or)\n",
    "    * `==` (equal to)\n",
    "    * `<` (less than)\n",
    "    * `>` (greater than)\n",
    "    * `<=` (less than or equal to)\n",
    "    * `>=` (greater than or equal to)\n",
    "    * `~` (not)"
   ]
  },
  {
   "cell_type": "code",
   "execution_count": 1,
   "id": "4fcbd327-1d9a-443c-a88f-a81f85b151c3",
   "metadata": {},
   "outputs": [
    {
     "name": "stdout",
     "output_type": "stream",
     "text": [
      "+---------+---+----------+------+\n",
      "|     Name|age|Experience|Salary|\n",
      "+---------+---+----------+------+\n",
      "|    Krish| 31|        10| 30000|\n",
      "|Sudhanshu| 30|         8| 25000|\n",
      "|    Sunny| 29|         4| 20000|\n",
      "|     Paul| 24|         3| 20000|\n",
      "|   Harsha| 21|         1| 15000|\n",
      "|  Shubham| 23|         2| 18000|\n",
      "+---------+---+----------+------+\n",
      "\n"
     ]
    }
   ],
   "source": [
    "from pyspark.sql import SparkSession\n",
    "\n",
    "spark = SparkSession.builder.appName(\"Practice\").getOrCreate()\n",
    "\n",
    "df1 = spark.read.csv(\"test-data-4.csv\", header=True, inferSchema=True)\n",
    "df1.show()"
   ]
  },
  {
   "cell_type": "markdown",
   "id": "be45a02a-510f-4b69-87bf-e2f6534e5b02",
   "metadata": {},
   "source": [
    "## Filter operations"
   ]
  },
  {
   "cell_type": "code",
   "execution_count": 2,
   "id": "ce51fd1c-f259-4227-9096-5f08f6f8e32b",
   "metadata": {},
   "outputs": [
    {
     "name": "stdout",
     "output_type": "stream",
     "text": [
      "+-------+---+----------+------+\n",
      "|   Name|age|Experience|Salary|\n",
      "+-------+---+----------+------+\n",
      "|  Sunny| 29|         4| 20000|\n",
      "|   Paul| 24|         3| 20000|\n",
      "| Harsha| 21|         1| 15000|\n",
      "|Shubham| 23|         2| 18000|\n",
      "+-------+---+----------+------+\n",
      "\n"
     ]
    }
   ],
   "source": [
    "# Use the `filter()` method to retrieve the people who have salaries less than or equal to 20000.\n",
    "df1.filter(\"Salary <= 20000\").show()"
   ]
  },
  {
   "cell_type": "code",
   "execution_count": 3,
   "id": "e8ccef1d-d6e7-4744-b86c-cc58ac96e6e7",
   "metadata": {},
   "outputs": [
    {
     "name": "stdout",
     "output_type": "stream",
     "text": [
      "+-------+---+----------+------+\n",
      "|   Name|age|Experience|Salary|\n",
      "+-------+---+----------+------+\n",
      "|  Sunny| 29|         4| 20000|\n",
      "|   Paul| 24|         3| 20000|\n",
      "| Harsha| 21|         1| 15000|\n",
      "|Shubham| 23|         2| 18000|\n",
      "+-------+---+----------+------+\n",
      "\n"
     ]
    }
   ],
   "source": [
    "# You can also use this syntax:\n",
    "df1.filter(df1[\"Salary\"] <= 20000).show()"
   ]
  },
  {
   "cell_type": "code",
   "execution_count": 4,
   "id": "4046db29-bb79-4e37-bf6b-68db6cbe2eb3",
   "metadata": {},
   "outputs": [
    {
     "name": "stdout",
     "output_type": "stream",
     "text": [
      "+-------+---+\n",
      "|   Name|Age|\n",
      "+-------+---+\n",
      "|  Sunny| 29|\n",
      "|   Paul| 24|\n",
      "| Harsha| 21|\n",
      "|Shubham| 23|\n",
      "+-------+---+\n",
      "\n"
     ]
    }
   ],
   "source": [
    "# Use the `select()` method to return specific columns.\n",
    "df1.filter(\"Salary <= 20000\").select([\"Name\", \"Age\"]).show()"
   ]
  },
  {
   "cell_type": "code",
   "execution_count": 5,
   "id": "0a308c0d-2a4e-4486-a3eb-cacc51558e2c",
   "metadata": {},
   "outputs": [
    {
     "name": "stdout",
     "output_type": "stream",
     "text": [
      "+-------+---+----------+------+\n",
      "|   Name|age|Experience|Salary|\n",
      "+-------+---+----------+------+\n",
      "|Shubham| 23|         2| 18000|\n",
      "+-------+---+----------+------+\n",
      "\n"
     ]
    }
   ],
   "source": [
    "# Use the and (&) operator to retrieve data based on multiple conditions.\n",
    "df1.filter(\n",
    "    (df1[\"Salary\"] < 20000) & \n",
    "    (df1[\"Salary\"] > 15000)\n",
    ").show()"
   ]
  },
  {
   "cell_type": "code",
   "execution_count": 6,
   "id": "ad66fe96-0662-464c-af9f-881d9c0455e2",
   "metadata": {},
   "outputs": [
    {
     "name": "stdout",
     "output_type": "stream",
     "text": [
      "+-------+---+----------+------+\n",
      "|   Name|age|Experience|Salary|\n",
      "+-------+---+----------+------+\n",
      "|  Krish| 31|        10| 30000|\n",
      "| Harsha| 21|         1| 15000|\n",
      "|Shubham| 23|         2| 18000|\n",
      "+-------+---+----------+------+\n",
      "\n"
     ]
    }
   ],
   "source": [
    "# Use the or (|) operator to retrieve data based on multiple conditions.\n",
    "df1.filter(\n",
    "    (df1[\"Salary\"] > 25000) | \n",
    "    (df1[\"Salary\"] < 20000)\n",
    ").show()"
   ]
  },
  {
   "cell_type": "code",
   "execution_count": 7,
   "id": "80c9e20e-e430-4a6a-bd95-5ea9869f6a90",
   "metadata": {},
   "outputs": [
    {
     "name": "stdout",
     "output_type": "stream",
     "text": [
      "+---------+---+----------+------+\n",
      "|     Name|age|Experience|Salary|\n",
      "+---------+---+----------+------+\n",
      "|    Krish| 31|        10| 30000|\n",
      "|Sudhanshu| 30|         8| 25000|\n",
      "+---------+---+----------+------+\n",
      "\n"
     ]
    }
   ],
   "source": [
    "df1.filter(~(df1[\"Salary\"] <= 20000)).show()\n",
    "\n",
    "# NOTE: This syntax will throw an error with the not (~) operator: \n",
    "# df1.filter(~(\"Salary <= 20000\")).show()"
   ]
  }
 ],
 "metadata": {
  "kernelspec": {
   "display_name": "Python 3 (ipykernel)",
   "language": "python",
   "name": "python3"
  },
  "language_info": {
   "codemirror_mode": {
    "name": "ipython",
    "version": 3
   },
   "file_extension": ".py",
   "mimetype": "text/x-python",
   "name": "python",
   "nbconvert_exporter": "python",
   "pygments_lexer": "ipython3",
   "version": "3.10.8"
  }
 },
 "nbformat": 4,
 "nbformat_minor": 5
}
